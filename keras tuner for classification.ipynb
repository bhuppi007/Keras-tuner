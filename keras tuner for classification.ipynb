{
 "cells": [
  {
   "cell_type": "code",
   "execution_count": 1,
   "id": "a7c7dd52",
   "metadata": {},
   "outputs": [],
   "source": [
    "# importing libraries"
   ]
  },
  {
   "cell_type": "code",
   "execution_count": 2,
   "id": "02703f31",
   "metadata": {},
   "outputs": [],
   "source": [
    "import numpy as np\n",
    "import pandas as pd\n",
    "from sklearn.model_selection import train_test_split\n",
    "from sklearn.preprocessing import MinMaxScaler\n",
    "from tensorflow.keras.models import Sequential\n",
    "from tensorflow.keras.layers import Dense, Dropout\n",
    "from sklearn.metrics import accuracy_score"
   ]
  },
  {
   "cell_type": "code",
   "execution_count": 3,
   "id": "6fafaa21",
   "metadata": {},
   "outputs": [],
   "source": [
    "df = pd.read_csv(\"D:\\\\Datasets\\\\suv.csv\")"
   ]
  },
  {
   "cell_type": "code",
   "execution_count": 4,
   "id": "f08789e9",
   "metadata": {},
   "outputs": [
    {
     "data": {
      "text/html": [
       "<div>\n",
       "<style scoped>\n",
       "    .dataframe tbody tr th:only-of-type {\n",
       "        vertical-align: middle;\n",
       "    }\n",
       "\n",
       "    .dataframe tbody tr th {\n",
       "        vertical-align: top;\n",
       "    }\n",
       "\n",
       "    .dataframe thead th {\n",
       "        text-align: right;\n",
       "    }\n",
       "</style>\n",
       "<table border=\"1\" class=\"dataframe\">\n",
       "  <thead>\n",
       "    <tr style=\"text-align: right;\">\n",
       "      <th></th>\n",
       "      <th>User ID</th>\n",
       "      <th>Gender</th>\n",
       "      <th>Age</th>\n",
       "      <th>EstimatedSalary</th>\n",
       "      <th>Purchased</th>\n",
       "    </tr>\n",
       "  </thead>\n",
       "  <tbody>\n",
       "    <tr>\n",
       "      <th>0</th>\n",
       "      <td>15624510</td>\n",
       "      <td>Male</td>\n",
       "      <td>19</td>\n",
       "      <td>19000</td>\n",
       "      <td>0</td>\n",
       "    </tr>\n",
       "    <tr>\n",
       "      <th>1</th>\n",
       "      <td>15810944</td>\n",
       "      <td>Male</td>\n",
       "      <td>35</td>\n",
       "      <td>20000</td>\n",
       "      <td>0</td>\n",
       "    </tr>\n",
       "    <tr>\n",
       "      <th>2</th>\n",
       "      <td>15668575</td>\n",
       "      <td>Female</td>\n",
       "      <td>26</td>\n",
       "      <td>43000</td>\n",
       "      <td>0</td>\n",
       "    </tr>\n",
       "    <tr>\n",
       "      <th>3</th>\n",
       "      <td>15603246</td>\n",
       "      <td>Female</td>\n",
       "      <td>27</td>\n",
       "      <td>57000</td>\n",
       "      <td>0</td>\n",
       "    </tr>\n",
       "    <tr>\n",
       "      <th>4</th>\n",
       "      <td>15804002</td>\n",
       "      <td>Male</td>\n",
       "      <td>19</td>\n",
       "      <td>76000</td>\n",
       "      <td>0</td>\n",
       "    </tr>\n",
       "  </tbody>\n",
       "</table>\n",
       "</div>"
      ],
      "text/plain": [
       "    User ID  Gender  Age  EstimatedSalary  Purchased\n",
       "0  15624510    Male   19            19000          0\n",
       "1  15810944    Male   35            20000          0\n",
       "2  15668575  Female   26            43000          0\n",
       "3  15603246  Female   27            57000          0\n",
       "4  15804002    Male   19            76000          0"
      ]
     },
     "execution_count": 4,
     "metadata": {},
     "output_type": "execute_result"
    }
   ],
   "source": [
    "df.head()"
   ]
  },
  {
   "cell_type": "code",
   "execution_count": 5,
   "id": "799c3442",
   "metadata": {},
   "outputs": [
    {
     "data": {
      "text/plain": [
       "User ID            0\n",
       "Gender             0\n",
       "Age                0\n",
       "EstimatedSalary    0\n",
       "Purchased          0\n",
       "dtype: int64"
      ]
     },
     "execution_count": 5,
     "metadata": {},
     "output_type": "execute_result"
    }
   ],
   "source": [
    "df.isnull().sum()"
   ]
  },
  {
   "cell_type": "code",
   "execution_count": 6,
   "id": "0594615a",
   "metadata": {},
   "outputs": [
    {
     "data": {
      "text/html": [
       "<div>\n",
       "<style scoped>\n",
       "    .dataframe tbody tr th:only-of-type {\n",
       "        vertical-align: middle;\n",
       "    }\n",
       "\n",
       "    .dataframe tbody tr th {\n",
       "        vertical-align: top;\n",
       "    }\n",
       "\n",
       "    .dataframe thead th {\n",
       "        text-align: right;\n",
       "    }\n",
       "</style>\n",
       "<table border=\"1\" class=\"dataframe\">\n",
       "  <thead>\n",
       "    <tr style=\"text-align: right;\">\n",
       "      <th></th>\n",
       "      <th>User ID</th>\n",
       "      <th>Age</th>\n",
       "      <th>EstimatedSalary</th>\n",
       "      <th>Purchased</th>\n",
       "    </tr>\n",
       "  </thead>\n",
       "  <tbody>\n",
       "    <tr>\n",
       "      <th>User ID</th>\n",
       "      <td>100.000000</td>\n",
       "      <td>-0.072110</td>\n",
       "      <td>7.109732</td>\n",
       "      <td>0.712018</td>\n",
       "    </tr>\n",
       "    <tr>\n",
       "      <th>Age</th>\n",
       "      <td>-0.072110</td>\n",
       "      <td>100.000000</td>\n",
       "      <td>15.523802</td>\n",
       "      <td>62.245420</td>\n",
       "    </tr>\n",
       "    <tr>\n",
       "      <th>EstimatedSalary</th>\n",
       "      <td>7.109732</td>\n",
       "      <td>15.523802</td>\n",
       "      <td>100.000000</td>\n",
       "      <td>36.208303</td>\n",
       "    </tr>\n",
       "    <tr>\n",
       "      <th>Purchased</th>\n",
       "      <td>0.712018</td>\n",
       "      <td>62.245420</td>\n",
       "      <td>36.208303</td>\n",
       "      <td>100.000000</td>\n",
       "    </tr>\n",
       "  </tbody>\n",
       "</table>\n",
       "</div>"
      ],
      "text/plain": [
       "                    User ID         Age  EstimatedSalary   Purchased\n",
       "User ID          100.000000   -0.072110         7.109732    0.712018\n",
       "Age               -0.072110  100.000000        15.523802   62.245420\n",
       "EstimatedSalary    7.109732   15.523802       100.000000   36.208303\n",
       "Purchased          0.712018   62.245420        36.208303  100.000000"
      ]
     },
     "execution_count": 6,
     "metadata": {},
     "output_type": "execute_result"
    }
   ],
   "source": [
    "df.corr()*100"
   ]
  },
  {
   "cell_type": "code",
   "execution_count": 7,
   "id": "27762f91",
   "metadata": {},
   "outputs": [
    {
     "data": {
      "text/plain": [
       "0    257\n",
       "1    143\n",
       "Name: Purchased, dtype: int64"
      ]
     },
     "execution_count": 7,
     "metadata": {},
     "output_type": "execute_result"
    }
   ],
   "source": [
    "df[\"Purchased\"].value_counts()\n",
    "# it is not an unbalanced dataset"
   ]
  },
  {
   "cell_type": "code",
   "execution_count": 8,
   "id": "120c8cd1",
   "metadata": {},
   "outputs": [],
   "source": [
    "# since gender is a categorical feature, convert it into one-hot encoding."
   ]
  },
  {
   "cell_type": "code",
   "execution_count": 9,
   "id": "ea7c51ac",
   "metadata": {},
   "outputs": [],
   "source": [
    "gender = pd.get_dummies(df[\"Gender\"], drop_first= True)"
   ]
  },
  {
   "cell_type": "code",
   "execution_count": 10,
   "id": "277e6aaa",
   "metadata": {},
   "outputs": [],
   "source": [
    "df = pd.concat([df, gender], axis = 1)"
   ]
  },
  {
   "cell_type": "code",
   "execution_count": 11,
   "id": "737cc3c5",
   "metadata": {},
   "outputs": [
    {
     "data": {
      "text/html": [
       "<div>\n",
       "<style scoped>\n",
       "    .dataframe tbody tr th:only-of-type {\n",
       "        vertical-align: middle;\n",
       "    }\n",
       "\n",
       "    .dataframe tbody tr th {\n",
       "        vertical-align: top;\n",
       "    }\n",
       "\n",
       "    .dataframe thead th {\n",
       "        text-align: right;\n",
       "    }\n",
       "</style>\n",
       "<table border=\"1\" class=\"dataframe\">\n",
       "  <thead>\n",
       "    <tr style=\"text-align: right;\">\n",
       "      <th></th>\n",
       "      <th>User ID</th>\n",
       "      <th>Gender</th>\n",
       "      <th>Age</th>\n",
       "      <th>EstimatedSalary</th>\n",
       "      <th>Purchased</th>\n",
       "      <th>Male</th>\n",
       "    </tr>\n",
       "  </thead>\n",
       "  <tbody>\n",
       "    <tr>\n",
       "      <th>0</th>\n",
       "      <td>15624510</td>\n",
       "      <td>Male</td>\n",
       "      <td>19</td>\n",
       "      <td>19000</td>\n",
       "      <td>0</td>\n",
       "      <td>1</td>\n",
       "    </tr>\n",
       "    <tr>\n",
       "      <th>1</th>\n",
       "      <td>15810944</td>\n",
       "      <td>Male</td>\n",
       "      <td>35</td>\n",
       "      <td>20000</td>\n",
       "      <td>0</td>\n",
       "      <td>1</td>\n",
       "    </tr>\n",
       "    <tr>\n",
       "      <th>2</th>\n",
       "      <td>15668575</td>\n",
       "      <td>Female</td>\n",
       "      <td>26</td>\n",
       "      <td>43000</td>\n",
       "      <td>0</td>\n",
       "      <td>0</td>\n",
       "    </tr>\n",
       "    <tr>\n",
       "      <th>3</th>\n",
       "      <td>15603246</td>\n",
       "      <td>Female</td>\n",
       "      <td>27</td>\n",
       "      <td>57000</td>\n",
       "      <td>0</td>\n",
       "      <td>0</td>\n",
       "    </tr>\n",
       "    <tr>\n",
       "      <th>4</th>\n",
       "      <td>15804002</td>\n",
       "      <td>Male</td>\n",
       "      <td>19</td>\n",
       "      <td>76000</td>\n",
       "      <td>0</td>\n",
       "      <td>1</td>\n",
       "    </tr>\n",
       "  </tbody>\n",
       "</table>\n",
       "</div>"
      ],
      "text/plain": [
       "    User ID  Gender  Age  EstimatedSalary  Purchased  Male\n",
       "0  15624510    Male   19            19000          0     1\n",
       "1  15810944    Male   35            20000          0     1\n",
       "2  15668575  Female   26            43000          0     0\n",
       "3  15603246  Female   27            57000          0     0\n",
       "4  15804002    Male   19            76000          0     1"
      ]
     },
     "execution_count": 11,
     "metadata": {},
     "output_type": "execute_result"
    }
   ],
   "source": [
    "df.head()"
   ]
  },
  {
   "cell_type": "code",
   "execution_count": 12,
   "id": "55d8b405",
   "metadata": {},
   "outputs": [],
   "source": [
    "df.drop(\"Gender\", axis = 1, inplace= True)"
   ]
  },
  {
   "cell_type": "code",
   "execution_count": 13,
   "id": "641f6ea0",
   "metadata": {},
   "outputs": [
    {
     "data": {
      "text/html": [
       "<div>\n",
       "<style scoped>\n",
       "    .dataframe tbody tr th:only-of-type {\n",
       "        vertical-align: middle;\n",
       "    }\n",
       "\n",
       "    .dataframe tbody tr th {\n",
       "        vertical-align: top;\n",
       "    }\n",
       "\n",
       "    .dataframe thead th {\n",
       "        text-align: right;\n",
       "    }\n",
       "</style>\n",
       "<table border=\"1\" class=\"dataframe\">\n",
       "  <thead>\n",
       "    <tr style=\"text-align: right;\">\n",
       "      <th></th>\n",
       "      <th>User ID</th>\n",
       "      <th>Age</th>\n",
       "      <th>EstimatedSalary</th>\n",
       "      <th>Purchased</th>\n",
       "      <th>Male</th>\n",
       "    </tr>\n",
       "  </thead>\n",
       "  <tbody>\n",
       "    <tr>\n",
       "      <th>0</th>\n",
       "      <td>15624510</td>\n",
       "      <td>19</td>\n",
       "      <td>19000</td>\n",
       "      <td>0</td>\n",
       "      <td>1</td>\n",
       "    </tr>\n",
       "    <tr>\n",
       "      <th>1</th>\n",
       "      <td>15810944</td>\n",
       "      <td>35</td>\n",
       "      <td>20000</td>\n",
       "      <td>0</td>\n",
       "      <td>1</td>\n",
       "    </tr>\n",
       "    <tr>\n",
       "      <th>2</th>\n",
       "      <td>15668575</td>\n",
       "      <td>26</td>\n",
       "      <td>43000</td>\n",
       "      <td>0</td>\n",
       "      <td>0</td>\n",
       "    </tr>\n",
       "    <tr>\n",
       "      <th>3</th>\n",
       "      <td>15603246</td>\n",
       "      <td>27</td>\n",
       "      <td>57000</td>\n",
       "      <td>0</td>\n",
       "      <td>0</td>\n",
       "    </tr>\n",
       "    <tr>\n",
       "      <th>4</th>\n",
       "      <td>15804002</td>\n",
       "      <td>19</td>\n",
       "      <td>76000</td>\n",
       "      <td>0</td>\n",
       "      <td>1</td>\n",
       "    </tr>\n",
       "  </tbody>\n",
       "</table>\n",
       "</div>"
      ],
      "text/plain": [
       "    User ID  Age  EstimatedSalary  Purchased  Male\n",
       "0  15624510   19            19000          0     1\n",
       "1  15810944   35            20000          0     1\n",
       "2  15668575   26            43000          0     0\n",
       "3  15603246   27            57000          0     0\n",
       "4  15804002   19            76000          0     1"
      ]
     },
     "execution_count": 13,
     "metadata": {},
     "output_type": "execute_result"
    }
   ],
   "source": [
    "df.head()"
   ]
  },
  {
   "cell_type": "code",
   "execution_count": 14,
   "id": "6a9da7d8",
   "metadata": {},
   "outputs": [
    {
     "data": {
      "text/html": [
       "<div>\n",
       "<style scoped>\n",
       "    .dataframe tbody tr th:only-of-type {\n",
       "        vertical-align: middle;\n",
       "    }\n",
       "\n",
       "    .dataframe tbody tr th {\n",
       "        vertical-align: top;\n",
       "    }\n",
       "\n",
       "    .dataframe thead th {\n",
       "        text-align: right;\n",
       "    }\n",
       "</style>\n",
       "<table border=\"1\" class=\"dataframe\">\n",
       "  <thead>\n",
       "    <tr style=\"text-align: right;\">\n",
       "      <th></th>\n",
       "      <th>User ID</th>\n",
       "      <th>Age</th>\n",
       "      <th>EstimatedSalary</th>\n",
       "      <th>Purchased</th>\n",
       "      <th>Male</th>\n",
       "    </tr>\n",
       "  </thead>\n",
       "  <tbody>\n",
       "    <tr>\n",
       "      <th>User ID</th>\n",
       "      <td>100.000000</td>\n",
       "      <td>-0.072110</td>\n",
       "      <td>7.109732</td>\n",
       "      <td>0.712018</td>\n",
       "      <td>-2.524943</td>\n",
       "    </tr>\n",
       "    <tr>\n",
       "      <th>Age</th>\n",
       "      <td>-0.072110</td>\n",
       "      <td>100.000000</td>\n",
       "      <td>15.523802</td>\n",
       "      <td>62.245420</td>\n",
       "      <td>-7.374133</td>\n",
       "    </tr>\n",
       "    <tr>\n",
       "      <th>EstimatedSalary</th>\n",
       "      <td>7.109732</td>\n",
       "      <td>15.523802</td>\n",
       "      <td>100.000000</td>\n",
       "      <td>36.208303</td>\n",
       "      <td>-6.043469</td>\n",
       "    </tr>\n",
       "    <tr>\n",
       "      <th>Purchased</th>\n",
       "      <td>0.712018</td>\n",
       "      <td>62.245420</td>\n",
       "      <td>36.208303</td>\n",
       "      <td>100.000000</td>\n",
       "      <td>-4.246946</td>\n",
       "    </tr>\n",
       "    <tr>\n",
       "      <th>Male</th>\n",
       "      <td>-2.524943</td>\n",
       "      <td>-7.374133</td>\n",
       "      <td>-6.043469</td>\n",
       "      <td>-4.246946</td>\n",
       "      <td>100.000000</td>\n",
       "    </tr>\n",
       "  </tbody>\n",
       "</table>\n",
       "</div>"
      ],
      "text/plain": [
       "                    User ID         Age  EstimatedSalary   Purchased  \\\n",
       "User ID          100.000000   -0.072110         7.109732    0.712018   \n",
       "Age               -0.072110  100.000000        15.523802   62.245420   \n",
       "EstimatedSalary    7.109732   15.523802       100.000000   36.208303   \n",
       "Purchased          0.712018   62.245420        36.208303  100.000000   \n",
       "Male              -2.524943   -7.374133        -6.043469   -4.246946   \n",
       "\n",
       "                       Male  \n",
       "User ID           -2.524943  \n",
       "Age               -7.374133  \n",
       "EstimatedSalary   -6.043469  \n",
       "Purchased         -4.246946  \n",
       "Male             100.000000  "
      ]
     },
     "execution_count": 14,
     "metadata": {},
     "output_type": "execute_result"
    }
   ],
   "source": [
    "df.corr()*100"
   ]
  },
  {
   "cell_type": "code",
   "execution_count": 15,
   "id": "6722eb07",
   "metadata": {},
   "outputs": [
    {
     "data": {
      "text/plain": [
       "(400, 3)"
      ]
     },
     "execution_count": 15,
     "metadata": {},
     "output_type": "execute_result"
    }
   ],
   "source": [
    "X = df.drop(columns = [\"User ID\", \"Purchased\"]).values\n",
    "Y = df[\"Purchased\"].values\n",
    "X.shape"
   ]
  },
  {
   "cell_type": "code",
   "execution_count": 16,
   "id": "a58ebda6",
   "metadata": {},
   "outputs": [],
   "source": [
    "# scale down the data"
   ]
  },
  {
   "cell_type": "code",
   "execution_count": 17,
   "id": "713ab19b",
   "metadata": {},
   "outputs": [],
   "source": [
    "minmax = MinMaxScaler()\n",
    "X = minmax.fit_transform(X)"
   ]
  },
  {
   "cell_type": "code",
   "execution_count": 18,
   "id": "dab93143",
   "metadata": {},
   "outputs": [],
   "source": [
    "# split the data with the help of train_test_split"
   ]
  },
  {
   "cell_type": "code",
   "execution_count": 19,
   "id": "dea50a19",
   "metadata": {},
   "outputs": [],
   "source": [
    "X_train, X_test, y_train, y_test = train_test_split(X, Y, test_size= 0.3)"
   ]
  },
  {
   "cell_type": "code",
   "execution_count": 20,
   "id": "c2b7f7ae",
   "metadata": {},
   "outputs": [],
   "source": [
    "# create ANN for classification task"
   ]
  },
  {
   "cell_type": "code",
   "execution_count": 21,
   "id": "26150108",
   "metadata": {},
   "outputs": [],
   "source": [
    "model = Sequential()\n",
    "model.add(Dense(input_dim = 3, units = 6, activation = \"relu\"))\n",
    "model.add(Dense(units = 6, activation = \"relu\"))\n",
    "model.add(Dense(units = 6, activation = \"relu\"))\n",
    "model.add(Dense(units = 1, activation = \"sigmoid\"))\n",
    "model.compile(optimizer= \"adam\", loss= \"binary_crossentropy\", metrics= [\"accuracy\"])"
   ]
  },
  {
   "cell_type": "code",
   "execution_count": 22,
   "id": "e174ac10",
   "metadata": {},
   "outputs": [
    {
     "name": "stdout",
     "output_type": "stream",
     "text": [
      "Epoch 1/100\n",
      "7/7 [==============================] - 0s 21ms/step - loss: 0.6963 - accuracy: 0.3010 - val_loss: 0.6889 - val_accuracy: 0.4048\n",
      "Epoch 2/100\n",
      "7/7 [==============================] - 0s 6ms/step - loss: 0.6917 - accuracy: 0.4235 - val_loss: 0.6879 - val_accuracy: 0.5357\n",
      "Epoch 3/100\n",
      "7/7 [==============================] - 0s 6ms/step - loss: 0.6887 - accuracy: 0.5765 - val_loss: 0.6873 - val_accuracy: 0.5238\n",
      "Epoch 4/100\n",
      "7/7 [==============================] - 0s 6ms/step - loss: 0.6860 - accuracy: 0.6276 - val_loss: 0.6865 - val_accuracy: 0.5476\n",
      "Epoch 5/100\n",
      "7/7 [==============================] - 0s 5ms/step - loss: 0.6838 - accuracy: 0.6480 - val_loss: 0.6854 - val_accuracy: 0.5952\n",
      "Epoch 6/100\n",
      "7/7 [==============================] - 0s 6ms/step - loss: 0.6820 - accuracy: 0.6786 - val_loss: 0.6844 - val_accuracy: 0.5952\n",
      "Epoch 7/100\n",
      "7/7 [==============================] - 0s 6ms/step - loss: 0.6802 - accuracy: 0.6888 - val_loss: 0.6835 - val_accuracy: 0.6071\n",
      "Epoch 8/100\n",
      "7/7 [==============================] - 0s 5ms/step - loss: 0.6786 - accuracy: 0.7143 - val_loss: 0.6824 - val_accuracy: 0.6310\n",
      "Epoch 9/100\n",
      "7/7 [==============================] - 0s 5ms/step - loss: 0.6768 - accuracy: 0.7245 - val_loss: 0.6818 - val_accuracy: 0.6429\n",
      "Epoch 10/100\n",
      "7/7 [==============================] - 0s 6ms/step - loss: 0.6750 - accuracy: 0.7551 - val_loss: 0.6809 - val_accuracy: 0.6667\n",
      "Epoch 11/100\n",
      "7/7 [==============================] - 0s 6ms/step - loss: 0.6733 - accuracy: 0.7857 - val_loss: 0.6796 - val_accuracy: 0.6667\n",
      "Epoch 12/100\n",
      "7/7 [==============================] - 0s 6ms/step - loss: 0.6713 - accuracy: 0.8061 - val_loss: 0.6779 - val_accuracy: 0.6548\n",
      "Epoch 13/100\n",
      "7/7 [==============================] - 0s 6ms/step - loss: 0.6693 - accuracy: 0.8214 - val_loss: 0.6761 - val_accuracy: 0.6667\n",
      "Epoch 14/100\n",
      "7/7 [==============================] - 0s 5ms/step - loss: 0.6673 - accuracy: 0.8265 - val_loss: 0.6740 - val_accuracy: 0.6786\n",
      "Epoch 15/100\n",
      "7/7 [==============================] - 0s 6ms/step - loss: 0.6653 - accuracy: 0.8265 - val_loss: 0.6722 - val_accuracy: 0.6786\n",
      "Epoch 16/100\n",
      "7/7 [==============================] - 0s 5ms/step - loss: 0.6634 - accuracy: 0.8316 - val_loss: 0.6703 - val_accuracy: 0.7024\n",
      "Epoch 17/100\n",
      "7/7 [==============================] - 0s 5ms/step - loss: 0.6613 - accuracy: 0.8316 - val_loss: 0.6688 - val_accuracy: 0.7143\n",
      "Epoch 18/100\n",
      "7/7 [==============================] - 0s 6ms/step - loss: 0.6593 - accuracy: 0.8367 - val_loss: 0.6679 - val_accuracy: 0.7143\n",
      "Epoch 19/100\n",
      "7/7 [==============================] - 0s 5ms/step - loss: 0.6574 - accuracy: 0.8469 - val_loss: 0.6669 - val_accuracy: 0.7262\n",
      "Epoch 20/100\n",
      "7/7 [==============================] - 0s 6ms/step - loss: 0.6553 - accuracy: 0.8571 - val_loss: 0.6642 - val_accuracy: 0.7143\n",
      "Epoch 21/100\n",
      "7/7 [==============================] - 0s 6ms/step - loss: 0.6531 - accuracy: 0.8571 - val_loss: 0.6624 - val_accuracy: 0.7500\n",
      "Epoch 22/100\n",
      "7/7 [==============================] - 0s 6ms/step - loss: 0.6512 - accuracy: 0.8622 - val_loss: 0.6592 - val_accuracy: 0.7381\n",
      "Epoch 23/100\n",
      "7/7 [==============================] - 0s 5ms/step - loss: 0.6495 - accuracy: 0.8622 - val_loss: 0.6563 - val_accuracy: 0.7500\n",
      "Epoch 24/100\n",
      "7/7 [==============================] - 0s 5ms/step - loss: 0.6477 - accuracy: 0.8571 - val_loss: 0.6549 - val_accuracy: 0.7500\n",
      "Epoch 25/100\n",
      "7/7 [==============================] - 0s 6ms/step - loss: 0.6456 - accuracy: 0.8776 - val_loss: 0.6552 - val_accuracy: 0.7500\n",
      "Epoch 26/100\n",
      "7/7 [==============================] - 0s 7ms/step - loss: 0.6435 - accuracy: 0.8673 - val_loss: 0.6549 - val_accuracy: 0.7857\n",
      "Epoch 27/100\n",
      "7/7 [==============================] - 0s 8ms/step - loss: 0.6414 - accuracy: 0.8571 - val_loss: 0.6530 - val_accuracy: 0.7500\n",
      "Epoch 28/100\n",
      "7/7 [==============================] - 0s 7ms/step - loss: 0.6392 - accuracy: 0.8622 - val_loss: 0.6511 - val_accuracy: 0.7500\n",
      "Epoch 29/100\n",
      "7/7 [==============================] - 0s 8ms/step - loss: 0.6369 - accuracy: 0.8622 - val_loss: 0.6486 - val_accuracy: 0.7381\n",
      "Epoch 30/100\n",
      "7/7 [==============================] - 0s 8ms/step - loss: 0.6350 - accuracy: 0.8571 - val_loss: 0.6467 - val_accuracy: 0.7381\n",
      "Epoch 31/100\n",
      "7/7 [==============================] - 0s 8ms/step - loss: 0.6325 - accuracy: 0.8571 - val_loss: 0.6451 - val_accuracy: 0.7381\n",
      "Epoch 32/100\n",
      "7/7 [==============================] - 0s 8ms/step - loss: 0.6302 - accuracy: 0.8520 - val_loss: 0.6425 - val_accuracy: 0.7381\n",
      "Epoch 33/100\n",
      "7/7 [==============================] - 0s 8ms/step - loss: 0.6282 - accuracy: 0.8571 - val_loss: 0.6391 - val_accuracy: 0.7381\n",
      "Epoch 34/100\n",
      "7/7 [==============================] - 0s 7ms/step - loss: 0.6254 - accuracy: 0.8571 - val_loss: 0.6373 - val_accuracy: 0.7381\n",
      "Epoch 35/100\n",
      "7/7 [==============================] - 0s 7ms/step - loss: 0.6226 - accuracy: 0.8469 - val_loss: 0.6369 - val_accuracy: 0.7381\n",
      "Epoch 36/100\n",
      "7/7 [==============================] - 0s 6ms/step - loss: 0.6202 - accuracy: 0.8520 - val_loss: 0.6351 - val_accuracy: 0.7381\n",
      "Epoch 37/100\n",
      "7/7 [==============================] - 0s 7ms/step - loss: 0.6178 - accuracy: 0.8622 - val_loss: 0.6322 - val_accuracy: 0.7500\n",
      "Epoch 38/100\n",
      "7/7 [==============================] - 0s 7ms/step - loss: 0.6151 - accuracy: 0.8622 - val_loss: 0.6304 - val_accuracy: 0.7500\n",
      "Epoch 39/100\n",
      "7/7 [==============================] - 0s 7ms/step - loss: 0.6124 - accuracy: 0.8571 - val_loss: 0.6309 - val_accuracy: 0.7500\n",
      "Epoch 40/100\n",
      "7/7 [==============================] - 0s 6ms/step - loss: 0.6100 - accuracy: 0.8622 - val_loss: 0.6306 - val_accuracy: 0.7381\n",
      "Epoch 41/100\n",
      "7/7 [==============================] - 0s 6ms/step - loss: 0.6077 - accuracy: 0.8673 - val_loss: 0.6296 - val_accuracy: 0.7619\n",
      "Epoch 42/100\n",
      "7/7 [==============================] - 0s 6ms/step - loss: 0.6050 - accuracy: 0.8673 - val_loss: 0.6244 - val_accuracy: 0.7500\n",
      "Epoch 43/100\n",
      "7/7 [==============================] - 0s 6ms/step - loss: 0.6019 - accuracy: 0.8571 - val_loss: 0.6204 - val_accuracy: 0.7381\n",
      "Epoch 44/100\n",
      "7/7 [==============================] - 0s 6ms/step - loss: 0.5989 - accuracy: 0.8571 - val_loss: 0.6193 - val_accuracy: 0.7381\n",
      "Epoch 45/100\n",
      "7/7 [==============================] - 0s 7ms/step - loss: 0.5961 - accuracy: 0.8571 - val_loss: 0.6174 - val_accuracy: 0.7381\n",
      "Epoch 46/100\n",
      "7/7 [==============================] - 0s 6ms/step - loss: 0.5929 - accuracy: 0.8724 - val_loss: 0.6136 - val_accuracy: 0.7381\n",
      "Epoch 47/100\n",
      "7/7 [==============================] - 0s 6ms/step - loss: 0.5904 - accuracy: 0.8724 - val_loss: 0.6115 - val_accuracy: 0.7500\n",
      "Epoch 48/100\n",
      "7/7 [==============================] - 0s 6ms/step - loss: 0.5878 - accuracy: 0.8673 - val_loss: 0.6132 - val_accuracy: 0.7500\n",
      "Epoch 49/100\n",
      "7/7 [==============================] - 0s 6ms/step - loss: 0.5851 - accuracy: 0.8724 - val_loss: 0.6109 - val_accuracy: 0.7500\n",
      "Epoch 50/100\n",
      "7/7 [==============================] - 0s 6ms/step - loss: 0.5825 - accuracy: 0.8724 - val_loss: 0.6066 - val_accuracy: 0.7381\n",
      "Epoch 51/100\n",
      "7/7 [==============================] - 0s 5ms/step - loss: 0.5793 - accuracy: 0.8827 - val_loss: 0.6034 - val_accuracy: 0.7500\n",
      "Epoch 52/100\n",
      "7/7 [==============================] - 0s 6ms/step - loss: 0.5764 - accuracy: 0.8776 - val_loss: 0.5987 - val_accuracy: 0.7738\n",
      "Epoch 53/100\n",
      "7/7 [==============================] - 0s 6ms/step - loss: 0.5742 - accuracy: 0.8776 - val_loss: 0.5951 - val_accuracy: 0.7738\n",
      "Epoch 54/100\n",
      "7/7 [==============================] - 0s 8ms/step - loss: 0.5713 - accuracy: 0.8827 - val_loss: 0.5935 - val_accuracy: 0.7738\n",
      "Epoch 55/100\n",
      "7/7 [==============================] - 0s 7ms/step - loss: 0.5680 - accuracy: 0.8827 - val_loss: 0.5947 - val_accuracy: 0.7619\n",
      "Epoch 56/100\n",
      "7/7 [==============================] - 0s 7ms/step - loss: 0.5655 - accuracy: 0.8776 - val_loss: 0.5927 - val_accuracy: 0.7619\n",
      "Epoch 57/100\n",
      "7/7 [==============================] - 0s 7ms/step - loss: 0.5628 - accuracy: 0.8776 - val_loss: 0.5946 - val_accuracy: 0.7500\n",
      "Epoch 58/100\n",
      "7/7 [==============================] - 0s 7ms/step - loss: 0.5600 - accuracy: 0.8878 - val_loss: 0.5945 - val_accuracy: 0.7381\n",
      "Epoch 59/100\n"
     ]
    },
    {
     "name": "stdout",
     "output_type": "stream",
     "text": [
      "7/7 [==============================] - 0s 8ms/step - loss: 0.5577 - accuracy: 0.8878 - val_loss: 0.5897 - val_accuracy: 0.7500\n",
      "Epoch 60/100\n",
      "7/7 [==============================] - 0s 5ms/step - loss: 0.5545 - accuracy: 0.8827 - val_loss: 0.5888 - val_accuracy: 0.7500\n",
      "Epoch 61/100\n",
      "7/7 [==============================] - 0s 5ms/step - loss: 0.5521 - accuracy: 0.8776 - val_loss: 0.5848 - val_accuracy: 0.7738\n",
      "Epoch 62/100\n",
      "7/7 [==============================] - 0s 5ms/step - loss: 0.5505 - accuracy: 0.8827 - val_loss: 0.5809 - val_accuracy: 0.7857\n",
      "Epoch 63/100\n",
      "7/7 [==============================] - 0s 5ms/step - loss: 0.5481 - accuracy: 0.8673 - val_loss: 0.5783 - val_accuracy: 0.7857\n",
      "Epoch 64/100\n",
      "7/7 [==============================] - 0s 5ms/step - loss: 0.5462 - accuracy: 0.8827 - val_loss: 0.5798 - val_accuracy: 0.7738\n",
      "Epoch 65/100\n",
      "7/7 [==============================] - 0s 5ms/step - loss: 0.5425 - accuracy: 0.8929 - val_loss: 0.5787 - val_accuracy: 0.7738\n",
      "Epoch 66/100\n",
      "7/7 [==============================] - 0s 5ms/step - loss: 0.5405 - accuracy: 0.8929 - val_loss: 0.5743 - val_accuracy: 0.7738\n",
      "Epoch 67/100\n",
      "7/7 [==============================] - 0s 5ms/step - loss: 0.5391 - accuracy: 0.8827 - val_loss: 0.5718 - val_accuracy: 0.7857\n",
      "Epoch 68/100\n",
      "7/7 [==============================] - 0s 7ms/step - loss: 0.5369 - accuracy: 0.8776 - val_loss: 0.5734 - val_accuracy: 0.7738\n",
      "Epoch 69/100\n",
      "7/7 [==============================] - 0s 8ms/step - loss: 0.5336 - accuracy: 0.8929 - val_loss: 0.5736 - val_accuracy: 0.7619\n",
      "Epoch 70/100\n",
      "7/7 [==============================] - ETA: 0s - loss: 0.5661 - accuracy: 0.81 - 0s 7ms/step - loss: 0.5316 - accuracy: 0.8980 - val_loss: 0.5736 - val_accuracy: 0.7857\n",
      "Epoch 71/100\n",
      "7/7 [==============================] - 0s 7ms/step - loss: 0.5297 - accuracy: 0.8827 - val_loss: 0.5748 - val_accuracy: 0.7619\n",
      "Epoch 72/100\n",
      "7/7 [==============================] - 0s 8ms/step - loss: 0.5272 - accuracy: 0.8827 - val_loss: 0.5710 - val_accuracy: 0.7619\n",
      "Epoch 73/100\n",
      "7/7 [==============================] - 0s 7ms/step - loss: 0.5252 - accuracy: 0.8827 - val_loss: 0.5726 - val_accuracy: 0.7738\n",
      "Epoch 74/100\n",
      "7/7 [==============================] - 0s 7ms/step - loss: 0.5230 - accuracy: 0.8827 - val_loss: 0.5724 - val_accuracy: 0.7738\n",
      "Epoch 75/100\n",
      "7/7 [==============================] - 0s 6ms/step - loss: 0.5208 - accuracy: 0.8827 - val_loss: 0.5700 - val_accuracy: 0.7500\n",
      "Epoch 76/100\n",
      "7/7 [==============================] - 0s 7ms/step - loss: 0.5192 - accuracy: 0.8929 - val_loss: 0.5644 - val_accuracy: 0.7619\n",
      "Epoch 77/100\n",
      "7/7 [==============================] - 0s 7ms/step - loss: 0.5176 - accuracy: 0.8827 - val_loss: 0.5640 - val_accuracy: 0.7619\n",
      "Epoch 78/100\n",
      "7/7 [==============================] - 0s 8ms/step - loss: 0.5156 - accuracy: 0.8878 - val_loss: 0.5704 - val_accuracy: 0.7500\n",
      "Epoch 79/100\n",
      "7/7 [==============================] - 0s 7ms/step - loss: 0.5135 - accuracy: 0.8827 - val_loss: 0.5718 - val_accuracy: 0.7500\n",
      "Epoch 80/100\n",
      "7/7 [==============================] - 0s 7ms/step - loss: 0.5123 - accuracy: 0.8827 - val_loss: 0.5686 - val_accuracy: 0.7500\n",
      "Epoch 81/100\n",
      "7/7 [==============================] - 0s 7ms/step - loss: 0.5091 - accuracy: 0.8827 - val_loss: 0.5626 - val_accuracy: 0.7857\n",
      "Epoch 82/100\n",
      "7/7 [==============================] - 0s 6ms/step - loss: 0.5077 - accuracy: 0.8878 - val_loss: 0.5633 - val_accuracy: 0.7738\n",
      "Epoch 83/100\n",
      "7/7 [==============================] - 0s 8ms/step - loss: 0.5060 - accuracy: 0.8878 - val_loss: 0.5632 - val_accuracy: 0.7500\n",
      "Epoch 84/100\n",
      "7/7 [==============================] - 0s 7ms/step - loss: 0.5039 - accuracy: 0.8776 - val_loss: 0.5674 - val_accuracy: 0.7500\n",
      "Epoch 85/100\n",
      "7/7 [==============================] - 0s 9ms/step - loss: 0.5040 - accuracy: 0.8776 - val_loss: 0.5749 - val_accuracy: 0.7381\n",
      "Epoch 86/100\n",
      "7/7 [==============================] - 0s 8ms/step - loss: 0.5045 - accuracy: 0.8776 - val_loss: 0.5727 - val_accuracy: 0.7381\n",
      "Epoch 87/100\n",
      "7/7 [==============================] - 0s 8ms/step - loss: 0.5012 - accuracy: 0.8827 - val_loss: 0.5642 - val_accuracy: 0.7500\n",
      "Epoch 88/100\n",
      "7/7 [==============================] - 0s 7ms/step - loss: 0.4989 - accuracy: 0.8827 - val_loss: 0.5569 - val_accuracy: 0.7619\n",
      "Epoch 89/100\n",
      "7/7 [==============================] - 0s 7ms/step - loss: 0.4964 - accuracy: 0.8878 - val_loss: 0.5547 - val_accuracy: 0.7619\n",
      "Epoch 90/100\n",
      "7/7 [==============================] - 0s 7ms/step - loss: 0.4947 - accuracy: 0.8878 - val_loss: 0.5574 - val_accuracy: 0.7619\n",
      "Epoch 91/100\n",
      "7/7 [==============================] - 0s 6ms/step - loss: 0.4933 - accuracy: 0.8878 - val_loss: 0.5570 - val_accuracy: 0.7619\n",
      "Epoch 92/100\n",
      "7/7 [==============================] - 0s 7ms/step - loss: 0.4917 - accuracy: 0.8878 - val_loss: 0.5578 - val_accuracy: 0.7500\n",
      "Epoch 93/100\n",
      "7/7 [==============================] - 0s 6ms/step - loss: 0.4902 - accuracy: 0.8776 - val_loss: 0.5628 - val_accuracy: 0.7500\n",
      "Epoch 94/100\n",
      "7/7 [==============================] - 0s 7ms/step - loss: 0.4900 - accuracy: 0.8827 - val_loss: 0.5625 - val_accuracy: 0.7500\n",
      "Epoch 95/100\n",
      "7/7 [==============================] - 0s 8ms/step - loss: 0.4889 - accuracy: 0.8827 - val_loss: 0.5646 - val_accuracy: 0.7262\n",
      "Epoch 96/100\n",
      "7/7 [==============================] - 0s 7ms/step - loss: 0.4877 - accuracy: 0.8827 - val_loss: 0.5604 - val_accuracy: 0.7500\n",
      "Epoch 97/100\n",
      "7/7 [==============================] - 0s 7ms/step - loss: 0.4862 - accuracy: 0.8878 - val_loss: 0.5522 - val_accuracy: 0.7619\n",
      "Epoch 98/100\n",
      "7/7 [==============================] - 0s 7ms/step - loss: 0.4851 - accuracy: 0.8827 - val_loss: 0.5497 - val_accuracy: 0.7738\n",
      "Epoch 99/100\n",
      "7/7 [==============================] - 0s 8ms/step - loss: 0.4842 - accuracy: 0.8776 - val_loss: 0.5488 - val_accuracy: 0.7738\n",
      "Epoch 100/100\n",
      "7/7 [==============================] - 0s 8ms/step - loss: 0.4830 - accuracy: 0.8878 - val_loss: 0.5509 - val_accuracy: 0.7619\n"
     ]
    },
    {
     "data": {
      "text/plain": [
       "<tensorflow.python.keras.callbacks.History at 0x2a6b099c6c8>"
      ]
     },
     "execution_count": 22,
     "metadata": {},
     "output_type": "execute_result"
    }
   ],
   "source": [
    "model.fit(X_train, y_train, validation_split= 0.3, epochs= 100)"
   ]
  },
  {
   "cell_type": "code",
   "execution_count": 23,
   "id": "15050d66",
   "metadata": {},
   "outputs": [],
   "source": [
    "y_pred = model.predict(X_test)\n",
    "y_pred = y_pred > 0.5"
   ]
  },
  {
   "cell_type": "code",
   "execution_count": 24,
   "id": "15754476",
   "metadata": {},
   "outputs": [
    {
     "data": {
      "text/plain": [
       "0.8666666666666667"
      ]
     },
     "execution_count": 24,
     "metadata": {},
     "output_type": "execute_result"
    }
   ],
   "source": [
    "accuracy_score(y_pred, y_test)"
   ]
  },
  {
   "cell_type": "markdown",
   "id": "0651d292",
   "metadata": {},
   "source": [
    "## keras tuner"
   ]
  },
  {
   "cell_type": "code",
   "execution_count": 25,
   "id": "053a9e71",
   "metadata": {},
   "outputs": [],
   "source": [
    "from tensorflow import keras\n",
    "from tensorflow.keras import layers\n",
    "from kerastuner.tuners import RandomSearch"
   ]
  },
  {
   "cell_type": "code",
   "execution_count": 26,
   "id": "b9b62386",
   "metadata": {},
   "outputs": [],
   "source": [
    "def build_model(hp):\n",
    "    model = keras.Sequential()\n",
    "    for i in range(hp.Int('num_layers', 2, 20)):\n",
    "        model.add(layers.Dense(units=hp.Int('units_' + str(i),\n",
    "                                            min_value=32,\n",
    "                                            max_value=512,\n",
    "                                            step=32),\n",
    "                               activation='relu'))\n",
    "    model.add(layers.Dense(1, activation='sigmoid'))\n",
    "    model.compile(\n",
    "        optimizer=keras.optimizers.Adam(\n",
    "            hp.Choice('learning_rate', [1e-2, 1e-3, 1e-4])),\n",
    "        loss='binary_crossentropy',\n",
    "        metrics=['accuracy'])\n",
    "    return model"
   ]
  },
  {
   "cell_type": "code",
   "execution_count": 30,
   "id": "91573f5c",
   "metadata": {},
   "outputs": [],
   "source": [
    "tuner = RandomSearch(\n",
    "    build_model,\n",
    "    objective='val_accuracy',\n",
    "    max_trials=5,\n",
    "    executions_per_trial=3,\n",
    "    directory='my_dir',\n",
    "    project_name='First')"
   ]
  },
  {
   "cell_type": "code",
   "execution_count": 31,
   "id": "3e142326",
   "metadata": {},
   "outputs": [],
   "source": [
    "# tuner.search_space_summary()"
   ]
  },
  {
   "cell_type": "code",
   "execution_count": 32,
   "id": "2c648d22",
   "metadata": {},
   "outputs": [
    {
     "name": "stdout",
     "output_type": "stream",
     "text": [
      "Trial 5 Complete [00h 00m 03s]\n",
      "val_accuracy: 0.6166666746139526\n",
      "\n",
      "Best val_accuracy So Far: 0.8694444497426351\n",
      "Total elapsed time: 00h 00m 15s\n",
      "INFO:tensorflow:Oracle triggered exit\n"
     ]
    }
   ],
   "source": [
    "tuner.search(X_train, y_train,\n",
    "             epochs=5,\n",
    "             validation_data=(X_test, y_test))"
   ]
  },
  {
   "cell_type": "code",
   "execution_count": 34,
   "id": "5c5e287a",
   "metadata": {},
   "outputs": [],
   "source": [
    "# tuner.results_summary()"
   ]
  },
  {
   "cell_type": "code",
   "execution_count": 35,
   "id": "708d72ab",
   "metadata": {},
   "outputs": [],
   "source": [
    "best_hyperparameter=tuner.get_best_hyperparameters(num_trials=1)[0]"
   ]
  },
  {
   "cell_type": "code",
   "execution_count": 37,
   "id": "acef056b",
   "metadata": {},
   "outputs": [],
   "source": [
    "model = tuner.hypermodel.build(best_hyperparameter)"
   ]
  },
  {
   "cell_type": "code",
   "execution_count": 38,
   "id": "d5927757",
   "metadata": {},
   "outputs": [
    {
     "name": "stdout",
     "output_type": "stream",
     "text": [
      "Epoch 1/100\n",
      "7/7 [==============================] - 0s 20ms/step - loss: 0.6827 - accuracy: 0.6224 - val_loss: 0.6972 - val_accuracy: 0.5357\n",
      "Epoch 2/100\n",
      "7/7 [==============================] - 0s 6ms/step - loss: 0.6381 - accuracy: 0.7041 - val_loss: 0.7226 - val_accuracy: 0.5357\n",
      "Epoch 3/100\n",
      "7/7 [==============================] - 0s 5ms/step - loss: 0.6119 - accuracy: 0.7092 - val_loss: 0.6636 - val_accuracy: 0.5357\n",
      "Epoch 4/100\n",
      "7/7 [==============================] - 0s 6ms/step - loss: 0.5711 - accuracy: 0.7041 - val_loss: 0.7580 - val_accuracy: 0.5357\n",
      "Epoch 5/100\n",
      "7/7 [==============================] - 0s 7ms/step - loss: 0.5241 - accuracy: 0.7500 - val_loss: 0.6145 - val_accuracy: 0.6667\n",
      "Epoch 6/100\n",
      "7/7 [==============================] - 0s 7ms/step - loss: 0.4223 - accuracy: 0.8571 - val_loss: 0.4529 - val_accuracy: 0.8095\n",
      "Epoch 7/100\n",
      "7/7 [==============================] - 0s 7ms/step - loss: 0.3516 - accuracy: 0.8673 - val_loss: 0.3701 - val_accuracy: 0.8810\n",
      "Epoch 8/100\n",
      "7/7 [==============================] - 0s 7ms/step - loss: 0.2903 - accuracy: 0.8878 - val_loss: 0.4825 - val_accuracy: 0.7976\n",
      "Epoch 9/100\n",
      "7/7 [==============================] - 0s 6ms/step - loss: 0.2535 - accuracy: 0.8878 - val_loss: 0.3074 - val_accuracy: 0.9048\n",
      "Epoch 10/100\n",
      "7/7 [==============================] - 0s 6ms/step - loss: 0.2379 - accuracy: 0.9082 - val_loss: 0.3656 - val_accuracy: 0.8810\n",
      "Epoch 11/100\n",
      "7/7 [==============================] - 0s 6ms/step - loss: 0.2039 - accuracy: 0.9082 - val_loss: 0.3066 - val_accuracy: 0.9048\n",
      "Epoch 12/100\n",
      "7/7 [==============================] - 0s 6ms/step - loss: 0.2146 - accuracy: 0.9082 - val_loss: 0.3092 - val_accuracy: 0.8929\n",
      "Epoch 13/100\n",
      "7/7 [==============================] - 0s 6ms/step - loss: 0.2318 - accuracy: 0.9082 - val_loss: 0.3704 - val_accuracy: 0.8810\n",
      "Epoch 14/100\n",
      "7/7 [==============================] - 0s 6ms/step - loss: 0.1996 - accuracy: 0.9082 - val_loss: 0.2779 - val_accuracy: 0.9167\n",
      "Epoch 15/100\n",
      "7/7 [==============================] - 0s 6ms/step - loss: 0.2119 - accuracy: 0.9031 - val_loss: 0.2808 - val_accuracy: 0.9167\n",
      "Epoch 16/100\n",
      "7/7 [==============================] - 0s 6ms/step - loss: 0.1743 - accuracy: 0.9184 - val_loss: 0.3997 - val_accuracy: 0.8690\n",
      "Epoch 17/100\n",
      "7/7 [==============================] - 0s 6ms/step - loss: 0.2372 - accuracy: 0.8980 - val_loss: 0.2778 - val_accuracy: 0.9048\n",
      "Epoch 18/100\n",
      "7/7 [==============================] - 0s 6ms/step - loss: 0.1977 - accuracy: 0.9235 - val_loss: 0.3725 - val_accuracy: 0.8690\n",
      "Epoch 19/100\n",
      "7/7 [==============================] - 0s 6ms/step - loss: 0.2029 - accuracy: 0.9235 - val_loss: 0.3017 - val_accuracy: 0.8929\n",
      "Epoch 20/100\n",
      "7/7 [==============================] - 0s 6ms/step - loss: 0.1759 - accuracy: 0.9337 - val_loss: 0.3527 - val_accuracy: 0.9048\n",
      "Epoch 21/100\n",
      "7/7 [==============================] - 0s 6ms/step - loss: 0.1739 - accuracy: 0.9286 - val_loss: 0.3092 - val_accuracy: 0.9167\n",
      "Epoch 22/100\n",
      "7/7 [==============================] - 0s 6ms/step - loss: 0.1657 - accuracy: 0.9337 - val_loss: 0.3509 - val_accuracy: 0.9048\n",
      "Epoch 23/100\n",
      "7/7 [==============================] - 0s 6ms/step - loss: 0.1506 - accuracy: 0.9286 - val_loss: 0.3543 - val_accuracy: 0.9167\n",
      "Epoch 24/100\n",
      "7/7 [==============================] - 0s 6ms/step - loss: 0.1494 - accuracy: 0.9337 - val_loss: 0.3043 - val_accuracy: 0.9167\n",
      "Epoch 25/100\n",
      "7/7 [==============================] - 0s 6ms/step - loss: 0.1611 - accuracy: 0.9337 - val_loss: 0.3855 - val_accuracy: 0.8929\n",
      "Epoch 26/100\n",
      "7/7 [==============================] - 0s 6ms/step - loss: 0.1550 - accuracy: 0.9286 - val_loss: 0.3026 - val_accuracy: 0.9167\n",
      "Epoch 27/100\n",
      "7/7 [==============================] - 0s 6ms/step - loss: 0.1493 - accuracy: 0.9439 - val_loss: 0.4377 - val_accuracy: 0.8810\n",
      "Epoch 28/100\n",
      "7/7 [==============================] - 0s 6ms/step - loss: 0.1573 - accuracy: 0.9337 - val_loss: 0.3030 - val_accuracy: 0.9167\n",
      "Epoch 29/100\n",
      "7/7 [==============================] - 0s 6ms/step - loss: 0.1516 - accuracy: 0.9337 - val_loss: 0.4418 - val_accuracy: 0.8810\n",
      "Epoch 30/100\n",
      "7/7 [==============================] - 0s 6ms/step - loss: 0.1691 - accuracy: 0.9184 - val_loss: 0.2928 - val_accuracy: 0.9167\n",
      "Epoch 31/100\n",
      "7/7 [==============================] - 0s 6ms/step - loss: 0.1681 - accuracy: 0.9184 - val_loss: 0.3444 - val_accuracy: 0.9167\n",
      "Epoch 32/100\n",
      "7/7 [==============================] - 0s 6ms/step - loss: 0.1480 - accuracy: 0.9235 - val_loss: 0.3305 - val_accuracy: 0.9048\n",
      "Epoch 33/100\n",
      "7/7 [==============================] - 0s 6ms/step - loss: 0.1459 - accuracy: 0.9286 - val_loss: 0.4002 - val_accuracy: 0.9048\n",
      "Epoch 34/100\n",
      "7/7 [==============================] - 0s 6ms/step - loss: 0.1618 - accuracy: 0.9439 - val_loss: 0.2992 - val_accuracy: 0.8929\n",
      "Epoch 35/100\n",
      "7/7 [==============================] - 0s 6ms/step - loss: 0.2085 - accuracy: 0.8980 - val_loss: 0.4556 - val_accuracy: 0.8929\n",
      "Epoch 36/100\n",
      "7/7 [==============================] - 0s 6ms/step - loss: 0.2281 - accuracy: 0.9082 - val_loss: 0.3292 - val_accuracy: 0.9048\n",
      "Epoch 37/100\n",
      "7/7 [==============================] - 0s 6ms/step - loss: 0.1613 - accuracy: 0.9235 - val_loss: 0.3098 - val_accuracy: 0.8929\n",
      "Epoch 38/100\n",
      "7/7 [==============================] - 0s 6ms/step - loss: 0.1732 - accuracy: 0.9286 - val_loss: 0.4041 - val_accuracy: 0.8690\n",
      "Epoch 39/100\n",
      "7/7 [==============================] - 0s 6ms/step - loss: 0.1779 - accuracy: 0.9082 - val_loss: 0.3283 - val_accuracy: 0.9048\n",
      "Epoch 40/100\n",
      "7/7 [==============================] - 0s 6ms/step - loss: 0.1694 - accuracy: 0.9337 - val_loss: 0.4137 - val_accuracy: 0.8929\n",
      "Epoch 41/100\n",
      "7/7 [==============================] - 0s 6ms/step - loss: 0.1445 - accuracy: 0.9541 - val_loss: 0.3459 - val_accuracy: 0.9048\n",
      "Epoch 42/100\n",
      "7/7 [==============================] - 0s 6ms/step - loss: 0.1446 - accuracy: 0.9286 - val_loss: 0.3558 - val_accuracy: 0.9167\n",
      "Epoch 43/100\n",
      "7/7 [==============================] - 0s 7ms/step - loss: 0.1369 - accuracy: 0.9337 - val_loss: 0.3812 - val_accuracy: 0.9286\n",
      "Epoch 44/100\n",
      "7/7 [==============================] - 0s 5ms/step - loss: 0.1564 - accuracy: 0.9235 - val_loss: 0.4186 - val_accuracy: 0.9167\n",
      "Epoch 45/100\n",
      "7/7 [==============================] - 0s 6ms/step - loss: 0.1303 - accuracy: 0.9490 - val_loss: 0.4034 - val_accuracy: 0.9048\n",
      "Epoch 46/100\n",
      "7/7 [==============================] - 0s 6ms/step - loss: 0.1237 - accuracy: 0.9490 - val_loss: 0.5409 - val_accuracy: 0.8929\n",
      "Epoch 47/100\n",
      "7/7 [==============================] - 0s 6ms/step - loss: 0.2167 - accuracy: 0.9388 - val_loss: 0.3462 - val_accuracy: 0.8929\n",
      "Epoch 48/100\n",
      "7/7 [==============================] - 0s 6ms/step - loss: 0.2181 - accuracy: 0.9082 - val_loss: 0.3324 - val_accuracy: 0.9286\n",
      "Epoch 49/100\n",
      "7/7 [==============================] - 0s 6ms/step - loss: 0.2031 - accuracy: 0.9184 - val_loss: 0.4601 - val_accuracy: 0.8333\n",
      "Epoch 50/100\n",
      "7/7 [==============================] - 0s 7ms/step - loss: 0.1746 - accuracy: 0.9184 - val_loss: 0.2819 - val_accuracy: 0.9167\n",
      "Epoch 51/100\n",
      "7/7 [==============================] - 0s 7ms/step - loss: 0.1730 - accuracy: 0.9235 - val_loss: 0.3033 - val_accuracy: 0.9167\n",
      "Epoch 52/100\n",
      "7/7 [==============================] - 0s 7ms/step - loss: 0.1654 - accuracy: 0.9184 - val_loss: 0.3871 - val_accuracy: 0.8810\n",
      "Epoch 53/100\n",
      "7/7 [==============================] - 0s 6ms/step - loss: 0.1591 - accuracy: 0.9286 - val_loss: 0.3163 - val_accuracy: 0.9167\n",
      "Epoch 54/100\n",
      "7/7 [==============================] - 0s 6ms/step - loss: 0.1398 - accuracy: 0.9286 - val_loss: 0.3854 - val_accuracy: 0.9048\n",
      "Epoch 55/100\n",
      "7/7 [==============================] - 0s 6ms/step - loss: 0.1267 - accuracy: 0.9337 - val_loss: 0.4114 - val_accuracy: 0.8929\n",
      "Epoch 56/100\n",
      "7/7 [==============================] - 0s 6ms/step - loss: 0.1284 - accuracy: 0.9337 - val_loss: 0.4620 - val_accuracy: 0.9167\n",
      "Epoch 57/100\n",
      "7/7 [==============================] - 0s 6ms/step - loss: 0.1328 - accuracy: 0.9388 - val_loss: 0.3958 - val_accuracy: 0.9048\n",
      "Epoch 58/100\n",
      "7/7 [==============================] - 0s 6ms/step - loss: 0.1970 - accuracy: 0.9082 - val_loss: 0.3721 - val_accuracy: 0.8810\n",
      "Epoch 59/100\n"
     ]
    },
    {
     "name": "stdout",
     "output_type": "stream",
     "text": [
      "7/7 [==============================] - 0s 6ms/step - loss: 0.1713 - accuracy: 0.9286 - val_loss: 0.4278 - val_accuracy: 0.8810\n",
      "Epoch 60/100\n",
      "7/7 [==============================] - 0s 6ms/step - loss: 0.1654 - accuracy: 0.9337 - val_loss: 0.3307 - val_accuracy: 0.9048\n",
      "Epoch 61/100\n",
      "7/7 [==============================] - 0s 6ms/step - loss: 0.1384 - accuracy: 0.9337 - val_loss: 0.3468 - val_accuracy: 0.9048\n",
      "Epoch 62/100\n",
      "7/7 [==============================] - 0s 6ms/step - loss: 0.1362 - accuracy: 0.9337 - val_loss: 0.4555 - val_accuracy: 0.8929\n",
      "Epoch 63/100\n",
      "7/7 [==============================] - 0s 6ms/step - loss: 0.1742 - accuracy: 0.9337 - val_loss: 0.4257 - val_accuracy: 0.8810\n",
      "Epoch 64/100\n",
      "7/7 [==============================] - 0s 6ms/step - loss: 0.1647 - accuracy: 0.9337 - val_loss: 0.3437 - val_accuracy: 0.9048\n",
      "Epoch 65/100\n",
      "7/7 [==============================] - 0s 5ms/step - loss: 0.1640 - accuracy: 0.9388 - val_loss: 0.4219 - val_accuracy: 0.9048\n",
      "Epoch 66/100\n",
      "7/7 [==============================] - 0s 5ms/step - loss: 0.1488 - accuracy: 0.9439 - val_loss: 0.3451 - val_accuracy: 0.9167\n",
      "Epoch 67/100\n",
      "7/7 [==============================] - 0s 5ms/step - loss: 0.1391 - accuracy: 0.9286 - val_loss: 0.4839 - val_accuracy: 0.9167\n",
      "Epoch 68/100\n",
      "7/7 [==============================] - 0s 5ms/step - loss: 0.1584 - accuracy: 0.9184 - val_loss: 0.3918 - val_accuracy: 0.9167\n",
      "Epoch 69/100\n",
      "7/7 [==============================] - 0s 5ms/step - loss: 0.1387 - accuracy: 0.9337 - val_loss: 0.3766 - val_accuracy: 0.9167\n",
      "Epoch 70/100\n",
      "7/7 [==============================] - 0s 5ms/step - loss: 0.1513 - accuracy: 0.9337 - val_loss: 0.4863 - val_accuracy: 0.8929\n",
      "Epoch 71/100\n",
      "7/7 [==============================] - 0s 5ms/step - loss: 0.1290 - accuracy: 0.9337 - val_loss: 0.3941 - val_accuracy: 0.8929\n",
      "Epoch 72/100\n",
      "7/7 [==============================] - 0s 5ms/step - loss: 0.1304 - accuracy: 0.9337 - val_loss: 0.4370 - val_accuracy: 0.8929\n",
      "Epoch 73/100\n",
      "7/7 [==============================] - 0s 6ms/step - loss: 0.1286 - accuracy: 0.9388 - val_loss: 0.5536 - val_accuracy: 0.8810\n",
      "Epoch 74/100\n",
      "7/7 [==============================] - 0s 6ms/step - loss: 0.1371 - accuracy: 0.9286 - val_loss: 0.4723 - val_accuracy: 0.9048\n",
      "Epoch 75/100\n",
      "7/7 [==============================] - 0s 7ms/step - loss: 0.1178 - accuracy: 0.9286 - val_loss: 0.5672 - val_accuracy: 0.8929\n",
      "Epoch 76/100\n",
      "7/7 [==============================] - 0s 7ms/step - loss: 0.1169 - accuracy: 0.9388 - val_loss: 0.5307 - val_accuracy: 0.9048\n",
      "Epoch 77/100\n",
      "7/7 [==============================] - 0s 6ms/step - loss: 0.1145 - accuracy: 0.9337 - val_loss: 0.5345 - val_accuracy: 0.9048\n",
      "Epoch 78/100\n",
      "7/7 [==============================] - 0s 6ms/step - loss: 0.1119 - accuracy: 0.9388 - val_loss: 0.5954 - val_accuracy: 0.9167\n",
      "Epoch 79/100\n",
      "7/7 [==============================] - 0s 6ms/step - loss: 0.1228 - accuracy: 0.9439 - val_loss: 0.4881 - val_accuracy: 0.9048\n",
      "Epoch 80/100\n",
      "7/7 [==============================] - 0s 6ms/step - loss: 0.1218 - accuracy: 0.9439 - val_loss: 0.5363 - val_accuracy: 0.8929\n",
      "Epoch 81/100\n",
      "7/7 [==============================] - 0s 6ms/step - loss: 0.1252 - accuracy: 0.9286 - val_loss: 0.5073 - val_accuracy: 0.9048\n",
      "Epoch 82/100\n",
      "7/7 [==============================] - 0s 6ms/step - loss: 0.1289 - accuracy: 0.9439 - val_loss: 0.5810 - val_accuracy: 0.9167\n",
      "Epoch 83/100\n",
      "7/7 [==============================] - 0s 6ms/step - loss: 0.1290 - accuracy: 0.9439 - val_loss: 0.6121 - val_accuracy: 0.9048\n",
      "Epoch 84/100\n",
      "7/7 [==============================] - 0s 6ms/step - loss: 0.1294 - accuracy: 0.9337 - val_loss: 0.5412 - val_accuracy: 0.9167\n",
      "Epoch 85/100\n",
      "7/7 [==============================] - 0s 6ms/step - loss: 0.1445 - accuracy: 0.9286 - val_loss: 0.4357 - val_accuracy: 0.8810\n",
      "Epoch 86/100\n",
      "7/7 [==============================] - 0s 6ms/step - loss: 0.2241 - accuracy: 0.8776 - val_loss: 0.3734 - val_accuracy: 0.8810\n",
      "Epoch 87/100\n",
      "7/7 [==============================] - 0s 6ms/step - loss: 0.1614 - accuracy: 0.9133 - val_loss: 0.4918 - val_accuracy: 0.8810\n",
      "Epoch 88/100\n",
      "7/7 [==============================] - 0s 6ms/step - loss: 0.1464 - accuracy: 0.9286 - val_loss: 0.3878 - val_accuracy: 0.8929\n",
      "Epoch 89/100\n",
      "7/7 [==============================] - 0s 6ms/step - loss: 0.1417 - accuracy: 0.9337 - val_loss: 0.5465 - val_accuracy: 0.9048\n",
      "Epoch 90/100\n",
      "7/7 [==============================] - 0s 6ms/step - loss: 0.1260 - accuracy: 0.9286 - val_loss: 0.5874 - val_accuracy: 0.9048\n",
      "Epoch 91/100\n",
      "7/7 [==============================] - 0s 6ms/step - loss: 0.1116 - accuracy: 0.9286 - val_loss: 0.5306 - val_accuracy: 0.9048\n",
      "Epoch 92/100\n",
      "7/7 [==============================] - 0s 6ms/step - loss: 0.1137 - accuracy: 0.9388 - val_loss: 0.5717 - val_accuracy: 0.8929\n",
      "Epoch 93/100\n",
      "7/7 [==============================] - 0s 6ms/step - loss: 0.1114 - accuracy: 0.9388 - val_loss: 0.5880 - val_accuracy: 0.9048\n",
      "Epoch 94/100\n",
      "7/7 [==============================] - 0s 6ms/step - loss: 0.1102 - accuracy: 0.9388 - val_loss: 0.6604 - val_accuracy: 0.8929\n",
      "Epoch 95/100\n",
      "7/7 [==============================] - 0s 6ms/step - loss: 0.1084 - accuracy: 0.9541 - val_loss: 0.6477 - val_accuracy: 0.8929\n",
      "Epoch 96/100\n",
      "7/7 [==============================] - 0s 6ms/step - loss: 0.1090 - accuracy: 0.9439 - val_loss: 0.6302 - val_accuracy: 0.9048\n",
      "Epoch 97/100\n",
      "7/7 [==============================] - 0s 6ms/step - loss: 0.1083 - accuracy: 0.9541 - val_loss: 0.7030 - val_accuracy: 0.9048\n",
      "Epoch 98/100\n",
      "7/7 [==============================] - 0s 6ms/step - loss: 0.1047 - accuracy: 0.9490 - val_loss: 0.8077 - val_accuracy: 0.8929\n",
      "Epoch 99/100\n",
      "7/7 [==============================] - 0s 6ms/step - loss: 0.1091 - accuracy: 0.9439 - val_loss: 0.6583 - val_accuracy: 0.9048\n",
      "Epoch 100/100\n",
      "7/7 [==============================] - 0s 6ms/step - loss: 0.1075 - accuracy: 0.9439 - val_loss: 0.6470 - val_accuracy: 0.8929\n"
     ]
    },
    {
     "data": {
      "text/plain": [
       "<tensorflow.python.keras.callbacks.History at 0x2a6b8da71c8>"
      ]
     },
     "execution_count": 38,
     "metadata": {},
     "output_type": "execute_result"
    }
   ],
   "source": [
    "model.fit(X_train, y_train, epochs = 100, validation_split= 0.3)"
   ]
  },
  {
   "cell_type": "code",
   "execution_count": 39,
   "id": "128a9d54",
   "metadata": {},
   "outputs": [],
   "source": [
    "y_pred = model.predict(X_test)\n",
    "y_pred = y_pred > 0.5"
   ]
  },
  {
   "cell_type": "code",
   "execution_count": 40,
   "id": "73a1b371",
   "metadata": {},
   "outputs": [
    {
     "data": {
      "text/plain": [
       "0.8916666666666667"
      ]
     },
     "execution_count": 40,
     "metadata": {},
     "output_type": "execute_result"
    }
   ],
   "source": [
    "accuracy_score(y_pred, y_test)"
   ]
  },
  {
   "cell_type": "code",
   "execution_count": null,
   "id": "91beabf2",
   "metadata": {},
   "outputs": [],
   "source": [
    "# hence accuracy is increased when used keras tuner with ANN instead of normal ANN."
   ]
  }
 ],
 "metadata": {
  "kernelspec": {
   "display_name": "Python 3",
   "language": "python",
   "name": "python3"
  },
  "language_info": {
   "codemirror_mode": {
    "name": "ipython",
    "version": 3
   },
   "file_extension": ".py",
   "mimetype": "text/x-python",
   "name": "python",
   "nbconvert_exporter": "python",
   "pygments_lexer": "ipython3",
   "version": "3.7.10"
  }
 },
 "nbformat": 4,
 "nbformat_minor": 5
}
